{
 "cells": [
  {
   "cell_type": "code",
   "execution_count": 1,
   "id": "228f79d8-4d31-4d93-8755-95418160cf00",
   "metadata": {
    "tags": []
   },
   "outputs": [],
   "source": [
    "import pandas as pd"
   ]
  },
  {
   "cell_type": "code",
   "execution_count": 2,
   "id": "5c61d3c9-013b-45be-8efa-b94608f190f4",
   "metadata": {
    "tags": []
   },
   "outputs": [],
   "source": [
    "data1 = pd.read_csv(\"data-1.csv\")\n",
    "data2 = pd.read_csv(\"data-2.csv\")\n",
    "data3 = pd.read_csv(\"data-3.csv\")\n",
    "data4 = pd.read_csv(\"data-4.csv\")\n",
    "data5 = pd.read_csv(\"data-5.csv\")\n",
    "data6 = pd.read_csv(\"data-6.csv\")"
   ]
  },
  {
   "cell_type": "code",
   "execution_count": 3,
   "id": "78be1f16-5a12-460a-8372-a4221a6f1b97",
   "metadata": {
    "tags": []
   },
   "outputs": [
    {
     "name": "stdout",
     "output_type": "stream",
     "text": [
      "x     8.717696\n",
      "y    12.522874\n",
      "dtype: float64 \n",
      " x   -0.710787\n",
      "y   -0.748987\n",
      "dtype: float64 \n",
      " x    0.968907\n",
      "y    8.508535\n",
      "dtype: float64 \n",
      " x    49.905086\n",
      "y    18.553837\n",
      "dtype: float64 \n",
      " x    49.909994\n",
      "y    18.555525\n",
      "dtype: float64 \n",
      " x    7.216155\n",
      "y    7.602215\n",
      "dtype: float64\n"
     ]
    }
   ],
   "source": [
    "print(data1.mean(),'\\n',data2.mean(),'\\n',data3.mean(),'\\n',data4.mean(),'\\n',data5.mean(),'\\n',data6.mean())"
   ]
  },
  {
   "cell_type": "code",
   "execution_count": 4,
   "id": "f79775b4-5d98-44dd-bada-8526c645b870",
   "metadata": {
    "tags": []
   },
   "outputs": [
    {
     "name": "stdout",
     "output_type": "stream",
     "text": [
      "x    12.155517\n",
      "y     6.639964\n",
      "dtype: float64 \n",
      " x    11.481584\n",
      "y     6.257918\n",
      "dtype: float64 \n",
      " x    2.235558\n",
      "y    1.149301\n",
      "dtype: float64 \n",
      " x    28.508611\n",
      "y    16.545896\n",
      "dtype: float64 \n",
      " x    28.500001\n",
      "y    16.540796\n",
      "dtype: float64 \n",
      " x    11.921599\n",
      "y    11.764382\n",
      "dtype: float64\n"
     ]
    }
   ],
   "source": [
    "print(data1.std(),'\\n',data2.std(),'\\n',data3.std(),'\\n',data4.std(),'\\n',data5.std(),'\\n',data6.std())"
   ]
  },
  {
   "cell_type": "code",
   "execution_count": 5,
   "id": "57c340a7-b503-4c3c-9849-3f82d06950b2",
   "metadata": {
    "tags": []
   },
   "outputs": [
    {
     "name": "stdout",
     "output_type": "stream",
     "text": [
      "x   -22.635878\n",
      "y    -2.565088\n",
      "dtype: float64 \n",
      " x   -33.271113\n",
      "y   -18.621804\n",
      "dtype: float64 \n",
      " x   -2.449064\n",
      "y    6.641734\n",
      "dtype: float64 \n",
      " x    0.0\n",
      "y    0.0\n",
      "dtype: float64 \n",
      " x    4.337892\n",
      "y    0.055498\n",
      "dtype: float64 \n",
      " x   -24.333821\n",
      "y   -22.956357\n",
      "dtype: float64\n"
     ]
    }
   ],
   "source": [
    "print(data1.min(),'\\n',data2.min(),'\\n',data3.min(),'\\n',data4.min(),'\\n',data5.min(),'\\n',data6.min())"
   ]
  },
  {
   "cell_type": "code",
   "execution_count": 6,
   "id": "ada1ea60-2bcd-40f6-a607-20ddd140d9a0",
   "metadata": {
    "tags": []
   },
   "outputs": [
    {
     "name": "stdout",
     "output_type": "stream",
     "text": [
      "x    35.237055\n",
      "y    27.384153\n",
      "dtype: float64 \n",
      " x    27.647000\n",
      "y    14.147315\n",
      "dtype: float64 \n",
      " x     4.518885\n",
      "y    10.551871\n",
      "dtype: float64 \n",
      " x    87.37670\n",
      "y    44.56504\n",
      "dtype: float64 \n",
      " x    91.052863\n",
      "y    49.934197\n",
      "dtype: float64 \n",
      " x    35.402139\n",
      "y    36.079874\n",
      "dtype: float64\n"
     ]
    }
   ],
   "source": [
    "print(data1.max(),'\\n',data2.max(),'\\n',data3.max(),'\\n',data4.max(),'\\n',data5.max(),'\\n',data6.max())"
   ]
  },
  {
   "cell_type": "code",
   "execution_count": 7,
   "id": "a93d5911-882f-4136-bdd3-0398aa05d8ca",
   "metadata": {
    "tags": []
   },
   "outputs": [
    {
     "name": "stdout",
     "output_type": "stream",
     "text": [
      "          x         y\n",
      "x  1.000000  0.950326\n",
      "y  0.950326  1.000000 \n",
      "           x         y\n",
      "x  1.000000  0.955153\n",
      "y  0.955153  1.000000 \n",
      "           x         y\n",
      "x  1.000000  0.981937\n",
      "y  0.981937  1.000000 \n",
      "           x         y\n",
      "x  1.000000 -0.081193\n",
      "y -0.081193  1.000000 \n",
      "           x         y\n",
      "x  1.000000 -0.088236\n",
      "y -0.088236  1.000000 \n",
      "           x         y\n",
      "x  1.000000  0.935069\n",
      "y  0.935069  1.000000\n"
     ]
    }
   ],
   "source": [
    "print(data1.corr(),'\\n',data2.corr(),'\\n',data3.corr(),'\\n',data4.corr(),'\\n',data5.corr(),'\\n',data6.corr())"
   ]
  }
 ],
 "metadata": {
  "kernelspec": {
   "display_name": "Python 3 (ipykernel)",
   "language": "python",
   "name": "python3"
  },
  "language_info": {
   "codemirror_mode": {
    "name": "ipython",
    "version": 3
   },
   "file_extension": ".py",
   "mimetype": "text/x-python",
   "name": "python",
   "nbconvert_exporter": "python",
   "pygments_lexer": "ipython3",
   "version": "3.11.5"
  }
 },
 "nbformat": 4,
 "nbformat_minor": 5
}
