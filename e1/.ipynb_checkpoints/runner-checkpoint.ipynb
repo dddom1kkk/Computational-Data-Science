{
 "cells": [
  {
   "cell_type": "code",
   "execution_count": 48,
   "id": "7bf8454e-5cae-4a55-b013-a55020df8b82",
   "metadata": {
    "tags": []
   },
   "outputs": [
    {
     "name": "stdout",
     "output_type": "stream",
     "text": [
      "2016-04 wadawdawd\n"
     ]
    }
   ],
   "source": [
    "%run pd_summary.py"
   ]
  },
  {
   "cell_type": "code",
   "execution_count": null,
   "id": "572716aa-146e-4ed2-897e-e8f0ad696fa6",
   "metadata": {},
   "outputs": [],
   "source": []
  }
 ],
 "metadata": {
  "kernelspec": {
   "display_name": "Python 3 (ipykernel)",
   "language": "python",
   "name": "python3"
  },
  "language_info": {
   "codemirror_mode": {
    "name": "ipython",
    "version": 3
   },
   "file_extension": ".py",
   "mimetype": "text/x-python",
   "name": "python",
   "nbconvert_exporter": "python",
   "pygments_lexer": "ipython3",
   "version": "3.11.5"
  }
 },
 "nbformat": 4,
 "nbformat_minor": 5
}
